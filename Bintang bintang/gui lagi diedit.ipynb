{
 "cells": [
  {
   "cell_type": "code",
   "execution_count": 27,
   "metadata": {},
   "outputs": [],
   "source": [
    "from tkinter import Tk, BOTH, X, LEFT, RIGHT, CENTER\n",
    "from tkinter.ttk import Frame, Entry, Label, Button\n",
    "#import \n",
    "\n",
    "\n",
    "class membuatGui(Frame):\n",
    "    def __init__(self, parent):\n",
    "        Frame.__init__(self, parent)\n",
    "\n",
    "        self.window = parent\n",
    "        self.initUI()\n",
    "        self.teksEdit()\n",
    "        self.tombol()\n",
    "\n",
    "    def initUI(self):\n",
    "        self.pack(fill=BOTH)\n",
    "        root.geometry(\"300x100+300+300\")\n",
    "        root.title(\"GUI Bintang\")\n",
    "\n",
    "    def teksEdit(self):\n",
    "        teksField = Frame(self)\n",
    "        teksField.pack()\n",
    "\n",
    "        masukKeWindow = Entry(teksField)\n",
    "        masukKeWindow.pack()\n",
    "        \n",
    "    def tombol(self):\n",
    "        tombolMasuk = Button(self, text=\"Enter\" command=\"\")\n",
    "        tombolMasuk.pack(side=CENTER)\n",
    "\n",
    "if __name__ == '__main__':\n",
    "    root = Tk()\n",
    "    app = membuatLabel(root)\n",
    "    root.mainloop()"
   ]
  },
  {
   "cell_type": "code",
   "execution_count": null,
   "metadata": {},
   "outputs": [],
   "source": []
  },
  {
   "cell_type": "code",
   "execution_count": null,
   "metadata": {},
   "outputs": [],
   "source": []
  }
 ],
 "metadata": {
  "kernelspec": {
   "display_name": "Python 3",
   "language": "python",
   "name": "python3"
  },
  "language_info": {
   "codemirror_mode": {
    "name": "ipython",
    "version": 3
   },
   "file_extension": ".py",
   "mimetype": "text/x-python",
   "name": "python",
   "nbconvert_exporter": "python",
   "pygments_lexer": "ipython3",
   "version": "3.7.6"
  }
 },
 "nbformat": 4,
 "nbformat_minor": 4
}
